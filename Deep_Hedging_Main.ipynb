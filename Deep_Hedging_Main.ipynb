{
 "cells": [
  {
   "cell_type": "markdown",
   "metadata": {},
   "source": [
    "# Pricing and Hedging of European options under Black-Scholes and introduction of transaction costs "
   ]
  },
  {
   "cell_type": "code",
   "execution_count": 1,
   "metadata": {},
   "outputs": [],
   "source": [
    "import numpy as np\n",
    "import matplotlib.pyplot as plt\n",
    "import seaborn as sns\n",
    "import scipy.stats as stats\n",
    "from scipy.stats import kstest\n",
    "from scipy.stats import norm\n",
    "from BlackScholes import BS\n",
    "from BS_transac_costs import BS_transac_costs"
   ]
  },
  {
   "cell_type": "code",
   "execution_count": 2,
   "metadata": {},
   "outputs": [],
   "source": [
    "Call = BS(100,100,1,0.2,0.05,0,\"Put\")"
   ]
  },
  {
   "cell_type": "code",
   "execution_count": 3,
   "metadata": {},
   "outputs": [],
   "source": [
    "Call_tc = BS_transac_costs(100,100,1,0.2,0.05,0.1,0,\"Put\")"
   ]
  },
  {
   "cell_type": "code",
   "execution_count": 4,
   "metadata": {},
   "outputs": [
    {
     "data": {
      "text/plain": [
       "array(5.57352602)"
      ]
     },
     "execution_count": 4,
     "metadata": {},
     "output_type": "execute_result"
    }
   ],
   "source": [
    "Call.pricing_BS(100,0)"
   ]
  },
  {
   "cell_type": "code",
   "execution_count": 5,
   "metadata": {},
   "outputs": [
    {
     "data": {
      "text/plain": [
       "array(-0.36316935)"
      ]
     },
     "execution_count": 5,
     "metadata": {},
     "output_type": "execute_result"
    }
   ],
   "source": [
    "Call.Delta(100,0)"
   ]
  },
  {
   "cell_type": "code",
   "execution_count": 6,
   "metadata": {},
   "outputs": [
    {
     "data": {
      "text/plain": [
       "array([100.        , 100.58251756, 102.24408564, 101.91368986,\n",
       "       101.01393817, 101.674804  , 104.59460254, 106.0232243 ,\n",
       "       104.4037496 , 105.07486343, 107.06565471, 107.50856308,\n",
       "       106.58802253, 106.47989491, 104.33697819, 103.4600101 ,\n",
       "       104.51846728, 104.8675972 , 104.38146186, 103.13258301,\n",
       "       100.69524416, 101.57285987, 100.79818535, 100.51262893,\n",
       "       101.29013934, 102.28764931, 102.97320302, 101.57418931,\n",
       "       101.63428505, 102.00273534,  99.94368775, 100.91194141,\n",
       "       101.83077125, 102.45664608, 100.72639723, 100.00188997,\n",
       "        99.60216824,  99.65367482, 100.10188513, 100.40282682,\n",
       "       100.74477284, 101.8286619 , 100.95738604, 101.5996237 ,\n",
       "       102.65283653, 100.64263217, 101.83709236, 101.61405995,\n",
       "        99.09797073, 100.70887211, 102.71137375, 102.0022153 ,\n",
       "       100.59151228, 100.22917372, 101.92165942, 102.29133936,\n",
       "       103.13134417, 103.61021437, 105.63462943, 106.12794248,\n",
       "       104.96633001, 103.17002976, 103.96035865, 104.36418914,\n",
       "       106.53258685, 106.91986385, 106.93997011, 106.86893279,\n",
       "       109.0125827 , 109.739568  , 111.10776177, 110.11197878,\n",
       "       109.1016332 , 111.76505652, 111.03164326, 111.67580577,\n",
       "       111.26104813, 112.35657202, 115.7053499 , 116.6340718 ,\n",
       "       115.51352457, 116.76269866, 118.50563034, 117.26390922,\n",
       "       118.52075636, 118.29247098, 121.01066396, 121.29155511,\n",
       "       121.61513818, 121.06182108, 120.96707221, 122.0508111 ,\n",
       "       121.95169484, 121.65666219, 121.81371853, 122.44751831,\n",
       "       120.73863127, 121.04709653, 120.71920181, 121.78709478,\n",
       "       121.8343723 , 121.28872599, 124.89270633, 124.21809814,\n",
       "       125.04295545, 125.18652906, 123.53627889, 124.22696938,\n",
       "       125.45632002, 123.44209453, 122.49161245, 122.00769772,\n",
       "       124.82774451, 126.09656017, 125.12597215, 126.17503823,\n",
       "       123.63465242, 123.33989668, 125.2012071 , 123.44187337,\n",
       "       123.15339483, 124.10499542, 125.73091253, 125.57561856,\n",
       "       124.92142436, 123.43318963, 123.15370975, 121.64601637,\n",
       "       120.91352988, 120.90662175, 121.59645338, 122.0255662 ,\n",
       "       123.26412165, 122.61331774, 122.42569541, 122.5474166 ,\n",
       "       120.43557921, 116.64815559, 118.02979184, 119.66369524,\n",
       "       117.19920644, 113.98812172, 112.41516214, 110.9299099 ,\n",
       "       111.42493135, 112.20788682, 113.22342316, 112.33364802,\n",
       "       112.74533578, 113.53539594, 112.77787215, 112.24201895,\n",
       "       112.279841  , 111.40471834, 112.65437284, 114.94335634,\n",
       "       112.91293637, 113.40919998, 111.85258892, 112.31307587,\n",
       "       110.87771752, 111.62082705, 113.11523652, 111.609726  ,\n",
       "       111.9947543 , 111.24268524, 110.35445023, 109.84155263,\n",
       "       110.11228414, 108.69166992, 108.3402776 , 110.3683231 ,\n",
       "       110.85261031, 110.01949949, 110.84399116, 111.72347837,\n",
       "       113.7742801 , 114.22339566, 113.88655283, 114.4399497 ,\n",
       "       112.59249585, 111.76645819, 112.3009173 , 113.4915012 ,\n",
       "       113.95567186, 112.28367976, 113.91765512, 114.04594066,\n",
       "       114.85919143, 115.65097951, 115.97992338, 115.93204503,\n",
       "       115.26348412, 115.17397402, 114.18841443, 114.61609517,\n",
       "       118.02050903, 118.59570796, 115.91166359, 118.7698659 ,\n",
       "       120.36020343, 119.76761321, 120.07078946, 119.93953558,\n",
       "       120.35101086, 122.03101626, 120.93342798, 120.66940148,\n",
       "       121.27273188, 121.1144516 , 122.04707165, 123.81458254,\n",
       "       124.19484203, 126.39407724, 124.37911449, 125.47400014,\n",
       "       126.3166675 , 126.25064087, 125.00731763, 123.65635513,\n",
       "       121.74856067, 121.73395624, 121.95174638, 122.4712847 ,\n",
       "       121.35836167, 119.91090947, 119.39379088, 119.93137495,\n",
       "       120.0186807 , 117.09562815, 118.33495234, 118.07160174,\n",
       "       119.03446997, 117.30104168, 119.26067348, 122.28882191,\n",
       "       125.33810645, 124.79989785, 121.92618786, 122.6975369 ,\n",
       "       123.78752515, 123.44730162, 124.96280324, 121.1844699 ,\n",
       "       121.53277421, 122.90924467, 120.47128203, 118.04040998,\n",
       "       115.5166352 , 116.54833681, 117.82906578, 115.98150691,\n",
       "       114.77608047])"
      ]
     },
     "execution_count": 6,
     "metadata": {},
     "output_type": "execute_result"
    }
   ],
   "source": [
    "Call.price_trajectory('daily')"
   ]
  },
  {
   "cell_type": "code",
   "execution_count": 7,
   "metadata": {},
   "outputs": [
    {
     "data": {
      "text/html": [
       "<div>\n",
       "<style scoped>\n",
       "    .dataframe tbody tr th:only-of-type {\n",
       "        vertical-align: middle;\n",
       "    }\n",
       "\n",
       "    .dataframe tbody tr th {\n",
       "        vertical-align: top;\n",
       "    }\n",
       "\n",
       "    .dataframe thead th {\n",
       "        text-align: right;\n",
       "    }\n",
       "</style>\n",
       "<table border=\"1\" class=\"dataframe\">\n",
       "  <thead>\n",
       "    <tr style=\"text-align: right;\">\n",
       "      <th></th>\n",
       "      <th>Price</th>\n",
       "      <th>Option price</th>\n",
       "      <th>Delta</th>\n",
       "      <th>Buy</th>\n",
       "      <th>Depenses</th>\n",
       "      <th>Holdings</th>\n",
       "      <th>Portfolio</th>\n",
       "      <th>Error</th>\n",
       "    </tr>\n",
       "  </thead>\n",
       "  <tbody>\n",
       "    <tr>\n",
       "      <th>0</th>\n",
       "      <td>100.000000</td>\n",
       "      <td>5.573526e+00</td>\n",
       "      <td>-0.363169</td>\n",
       "      <td>-0.363169</td>\n",
       "      <td>41.890461</td>\n",
       "      <td>-36.316935</td>\n",
       "      <td>5.573526</td>\n",
       "      <td>0.000000</td>\n",
       "    </tr>\n",
       "    <tr>\n",
       "      <th>1</th>\n",
       "      <td>99.541434</td>\n",
       "      <td>5.740968e+00</td>\n",
       "      <td>-0.371873</td>\n",
       "      <td>-0.008704</td>\n",
       "      <td>42.758263</td>\n",
       "      <td>-37.016814</td>\n",
       "      <td>5.741448</td>\n",
       "      <td>0.000481</td>\n",
       "    </tr>\n",
       "    <tr>\n",
       "      <th>2</th>\n",
       "      <td>99.511117</td>\n",
       "      <td>5.751175e+00</td>\n",
       "      <td>-0.372497</td>\n",
       "      <td>-0.000623</td>\n",
       "      <td>42.821693</td>\n",
       "      <td>-37.067557</td>\n",
       "      <td>5.754136</td>\n",
       "      <td>0.002961</td>\n",
       "    </tr>\n",
       "    <tr>\n",
       "      <th>3</th>\n",
       "      <td>99.923363</td>\n",
       "      <td>5.598130e+00</td>\n",
       "      <td>-0.364741</td>\n",
       "      <td>0.007756</td>\n",
       "      <td>42.048109</td>\n",
       "      <td>-36.446116</td>\n",
       "      <td>5.601992</td>\n",
       "      <td>0.003862</td>\n",
       "    </tr>\n",
       "    <tr>\n",
       "      <th>4</th>\n",
       "      <td>99.725516</td>\n",
       "      <td>5.669575e+00</td>\n",
       "      <td>-0.368520</td>\n",
       "      <td>-0.003779</td>\n",
       "      <td>42.426402</td>\n",
       "      <td>-36.750857</td>\n",
       "      <td>5.675546</td>\n",
       "      <td>0.005971</td>\n",
       "    </tr>\n",
       "    <tr>\n",
       "      <th>...</th>\n",
       "      <td>...</td>\n",
       "      <td>...</td>\n",
       "      <td>...</td>\n",
       "      <td>...</td>\n",
       "      <td>...</td>\n",
       "      <td>...</td>\n",
       "      <td>...</td>\n",
       "      <td>...</td>\n",
       "    </tr>\n",
       "    <tr>\n",
       "      <th>1508</th>\n",
       "      <td>119.834355</td>\n",
       "      <td>7.522393e-71</td>\n",
       "      <td>0.000000</td>\n",
       "      <td>0.000000</td>\n",
       "      <td>-0.059378</td>\n",
       "      <td>0.000000</td>\n",
       "      <td>-0.059378</td>\n",
       "      <td>0.059378</td>\n",
       "    </tr>\n",
       "    <tr>\n",
       "      <th>1509</th>\n",
       "      <td>119.642762</td>\n",
       "      <td>7.610952e-92</td>\n",
       "      <td>0.000000</td>\n",
       "      <td>0.000000</td>\n",
       "      <td>-0.059376</td>\n",
       "      <td>0.000000</td>\n",
       "      <td>-0.059376</td>\n",
       "      <td>0.059376</td>\n",
       "    </tr>\n",
       "    <tr>\n",
       "      <th>1510</th>\n",
       "      <td>119.540409</td>\n",
       "      <td>7.587409e-135</td>\n",
       "      <td>0.000000</td>\n",
       "      <td>0.000000</td>\n",
       "      <td>-0.059374</td>\n",
       "      <td>0.000000</td>\n",
       "      <td>-0.059374</td>\n",
       "      <td>0.059374</td>\n",
       "    </tr>\n",
       "    <tr>\n",
       "      <th>1511</th>\n",
       "      <td>119.909376</td>\n",
       "      <td>3.663523e-275</td>\n",
       "      <td>0.000000</td>\n",
       "      <td>0.000000</td>\n",
       "      <td>-0.059372</td>\n",
       "      <td>0.000000</td>\n",
       "      <td>-0.059372</td>\n",
       "      <td>0.059372</td>\n",
       "    </tr>\n",
       "    <tr>\n",
       "      <th>1512</th>\n",
       "      <td>121.448384</td>\n",
       "      <td>0.000000e+00</td>\n",
       "      <td>0.000000</td>\n",
       "      <td>0.000000</td>\n",
       "      <td>-0.059370</td>\n",
       "      <td>0.000000</td>\n",
       "      <td>-0.059370</td>\n",
       "      <td>0.059370</td>\n",
       "    </tr>\n",
       "  </tbody>\n",
       "</table>\n",
       "<p>1513 rows × 8 columns</p>\n",
       "</div>"
      ],
      "text/plain": [
       "           Price   Option price     Delta       Buy   Depenses   Holdings  \\\n",
       "0     100.000000   5.573526e+00 -0.363169 -0.363169  41.890461 -36.316935   \n",
       "1      99.541434   5.740968e+00 -0.371873 -0.008704  42.758263 -37.016814   \n",
       "2      99.511117   5.751175e+00 -0.372497 -0.000623  42.821693 -37.067557   \n",
       "3      99.923363   5.598130e+00 -0.364741  0.007756  42.048109 -36.446116   \n",
       "4      99.725516   5.669575e+00 -0.368520 -0.003779  42.426402 -36.750857   \n",
       "...          ...            ...       ...       ...        ...        ...   \n",
       "1508  119.834355   7.522393e-71  0.000000  0.000000  -0.059378   0.000000   \n",
       "1509  119.642762   7.610952e-92  0.000000  0.000000  -0.059376   0.000000   \n",
       "1510  119.540409  7.587409e-135  0.000000  0.000000  -0.059374   0.000000   \n",
       "1511  119.909376  3.663523e-275  0.000000  0.000000  -0.059372   0.000000   \n",
       "1512  121.448384   0.000000e+00  0.000000  0.000000  -0.059370   0.000000   \n",
       "\n",
       "      Portfolio     Error  \n",
       "0      5.573526  0.000000  \n",
       "1      5.741448  0.000481  \n",
       "2      5.754136  0.002961  \n",
       "3      5.601992  0.003862  \n",
       "4      5.675546  0.005971  \n",
       "...         ...       ...  \n",
       "1508  -0.059378  0.059378  \n",
       "1509  -0.059376  0.059376  \n",
       "1510  -0.059374  0.059374  \n",
       "1511  -0.059372  0.059372  \n",
       "1512  -0.059370  0.059370  \n",
       "\n",
       "[1513 rows x 8 columns]"
      ]
     },
     "execution_count": 7,
     "metadata": {},
     "output_type": "execute_result"
    }
   ],
   "source": [
    "H = Call.Hedging('hourly')\n",
    "H"
   ]
  },
  {
   "cell_type": "code",
   "execution_count": 8,
   "metadata": {},
   "outputs": [],
   "source": [
    "Sims = Call.MonteCarlo('daily',10000)\n",
    "terminal_values = [sim[-1] for sim in Sims]"
   ]
  },
  {
   "cell_type": "code",
   "execution_count": 9,
   "metadata": {},
   "outputs": [
    {
     "name": "stderr",
     "output_type": "stream",
     "text": [
      "/var/folders/3_/t8l3yh8s28z9_jbq7gqy7byr0000gn/T/ipykernel_5228/3459695329.py:7: UserWarning: No artists with labels found to put in legend.  Note that artists whose label start with an underscore are ignored when legend() is called with no argument.\n",
      "  plt.legend()\n"
     ]
    },
    {
     "data": {
      "image/png": "[encoded data removed]",
      "text/plain": [
       "<Figure size 1000x600 with 1 Axes>"
      ]
     },
     "metadata": {},
     "output_type": "display_data"
    }
   ],
   "source": [
    "plt.figure(figsize=(10,6))\n",
    "plt.hist(terminal_values, bins=30, edgecolor='k', alpha=0.7)\n",
    "plt.title('Distribution of Terminal Portfolio Values')\n",
    "plt.xlabel('Terminal Value')\n",
    "plt.ylabel('Frequency')\n",
    "plt.grid(True)\n",
    "plt.legend()\n",
    "plt.show()"
   ]
  },
  {
   "cell_type": "code",
   "execution_count": 10,
   "metadata": {},
   "outputs": [
    {
     "data": {
      "image/png": "[encoded data removed]",
      "text/plain": [
       "<Figure size 800x600 with 1 Axes>"
      ]
     },
     "metadata": {},
     "output_type": "display_data"
    }
   ],
   "source": [
    "plt.figure(figsize=(8,6))\n",
    "sns.boxplot(x=terminal_values)\n",
    "plt.title('Boxplot of Terminal Portfolio Values')\n",
    "plt.xlabel('Terminal Value')\n",
    "plt.show()"
   ]
  },
  {
   "cell_type": "code",
   "execution_count": 11,
   "metadata": {},
   "outputs": [
    {
     "name": "stdout",
     "output_type": "stream",
     "text": [
      "Mean: 0.00\n",
      "Median: 0.01\n",
      "Standard Deviation: 0.43\n"
     ]
    }
   ],
   "source": [
    "mean_val = np.mean(terminal_values)\n",
    "median_val = np.median(terminal_values)\n",
    "std_val = np.std(terminal_values)\n",
    "\n",
    "print(f\"Mean: {mean_val:.2f}\")\n",
    "print(f\"Median: {median_val:.2f}\")\n",
    "print(f\"Standard Deviation: {std_val:.2f}\")\n"
   ]
  },
  {
   "cell_type": "code",
   "execution_count": 12,
   "metadata": {},
   "outputs": [
    {
     "data": {
      "image/png": "[encoded data removed]",
      "text/plain": [
       "<Figure size 800x600 with 1 Axes>"
      ]
     },
     "metadata": {},
     "output_type": "display_data"
    }
   ],
   "source": [
    "plt.figure(figsize=(8,6))\n",
    "stats.probplot(terminal_values, dist=\"norm\", plot=plt)\n",
    "plt.title('Q-Q Plot of Terminal Portfolio Values')\n",
    "plt.show()"
   ]
  },
  {
   "cell_type": "code",
   "execution_count": 13,
   "metadata": {},
   "outputs": [
    {
     "name": "stdout",
     "output_type": "stream",
     "text": [
      "Kolmogorov-Smirnov Test: Statistics=0.040, p=0.000\n",
      "Sample does not look Gaussian (reject H0)\n"
     ]
    }
   ],
   "source": [
    "normalized_values = (terminal_values - np.mean(terminal_values)) / np.std(terminal_values)\n",
    "stat, p = kstest(normalized_values, 'norm')\n",
    "print('Kolmogorov-Smirnov Test: Statistics=%.3f, p=%.3f' % (stat, p))\n",
    "\n",
    "if p > 0.05:\n",
    "    print('Sample looks Gaussian (fail to reject H0)')\n",
    "else:\n",
    "    print('Sample does not look Gaussian (reject H0)')"
   ]
  },
  {
   "cell_type": "markdown",
   "metadata": {},
   "source": [
    "# Introduction of transaction costs into Black-Scholes"
   ]
  },
  {
   "cell_type": "code",
   "execution_count": 14,
   "metadata": {},
   "outputs": [
    {
     "data": {
      "text/html": [
       "<div>\n",
       "<style scoped>\n",
       "    .dataframe tbody tr th:only-of-type {\n",
       "        vertical-align: middle;\n",
       "    }\n",
       "\n",
       "    .dataframe tbody tr th {\n",
       "        vertical-align: top;\n",
       "    }\n",
       "\n",
       "    .dataframe thead th {\n",
       "        text-align: right;\n",
       "    }\n",
       "</style>\n",
       "<table border=\"1\" class=\"dataframe\">\n",
       "  <thead>\n",
       "    <tr style=\"text-align: right;\">\n",
       "      <th></th>\n",
       "      <th>Price</th>\n",
       "      <th>Option price</th>\n",
       "      <th>Delta</th>\n",
       "      <th>Buy</th>\n",
       "      <th>Cash</th>\n",
       "      <th>Holdings</th>\n",
       "      <th>Portfolio</th>\n",
       "      <th>Error</th>\n",
       "    </tr>\n",
       "  </thead>\n",
       "  <tbody>\n",
       "    <tr>\n",
       "      <th>0</th>\n",
       "      <td>100.000000</td>\n",
       "      <td>5.573526</td>\n",
       "      <td>-0.363169</td>\n",
       "      <td>-0.363169</td>\n",
       "      <td>38.258767</td>\n",
       "      <td>-36.316935</td>\n",
       "      <td>1.941833</td>\n",
       "      <td>3.631693</td>\n",
       "    </tr>\n",
       "    <tr>\n",
       "      <th>1</th>\n",
       "      <td>99.999598</td>\n",
       "      <td>5.572575</td>\n",
       "      <td>-0.363220</td>\n",
       "      <td>-0.000051</td>\n",
       "      <td>38.264622</td>\n",
       "      <td>-36.321888</td>\n",
       "      <td>1.942734</td>\n",
       "      <td>3.629841</td>\n",
       "    </tr>\n",
       "    <tr>\n",
       "      <th>2</th>\n",
       "      <td>99.999172</td>\n",
       "      <td>5.571632</td>\n",
       "      <td>-0.363272</td>\n",
       "      <td>-0.000051</td>\n",
       "      <td>38.270518</td>\n",
       "      <td>-36.326878</td>\n",
       "      <td>1.943639</td>\n",
       "      <td>3.627993</td>\n",
       "    </tr>\n",
       "    <tr>\n",
       "      <th>3</th>\n",
       "      <td>100.084809</td>\n",
       "      <td>5.539489</td>\n",
       "      <td>-0.361709</td>\n",
       "      <td>0.001563</td>\n",
       "      <td>38.099689</td>\n",
       "      <td>-36.201538</td>\n",
       "      <td>1.898151</td>\n",
       "      <td>3.641339</td>\n",
       "    </tr>\n",
       "    <tr>\n",
       "      <th>4</th>\n",
       "      <td>99.191088</td>\n",
       "      <td>5.869239</td>\n",
       "      <td>-0.378709</td>\n",
       "      <td>-0.017001</td>\n",
       "      <td>39.618619</td>\n",
       "      <td>-37.564572</td>\n",
       "      <td>2.054047</td>\n",
       "      <td>3.815192</td>\n",
       "    </tr>\n",
       "    <tr>\n",
       "      <th>...</th>\n",
       "      <td>...</td>\n",
       "      <td>...</td>\n",
       "      <td>...</td>\n",
       "      <td>...</td>\n",
       "      <td>...</td>\n",
       "      <td>...</td>\n",
       "      <td>...</td>\n",
       "      <td>...</td>\n",
       "    </tr>\n",
       "    <tr>\n",
       "      <th>1508</th>\n",
       "      <td>81.252068</td>\n",
       "      <td>18.734705</td>\n",
       "      <td>-1.000000</td>\n",
       "      <td>0.000000</td>\n",
       "      <td>-15.798914</td>\n",
       "      <td>-81.252068</td>\n",
       "      <td>-97.050982</td>\n",
       "      <td>115.785687</td>\n",
       "    </tr>\n",
       "    <tr>\n",
       "      <th>1509</th>\n",
       "      <td>81.109039</td>\n",
       "      <td>18.881040</td>\n",
       "      <td>-1.000000</td>\n",
       "      <td>0.000000</td>\n",
       "      <td>-15.798391</td>\n",
       "      <td>-81.109039</td>\n",
       "      <td>-96.907431</td>\n",
       "      <td>115.788471</td>\n",
       "    </tr>\n",
       "    <tr>\n",
       "      <th>1510</th>\n",
       "      <td>80.622194</td>\n",
       "      <td>19.371192</td>\n",
       "      <td>-1.000000</td>\n",
       "      <td>0.000000</td>\n",
       "      <td>-15.797869</td>\n",
       "      <td>-80.622194</td>\n",
       "      <td>-96.420063</td>\n",
       "      <td>115.791255</td>\n",
       "    </tr>\n",
       "    <tr>\n",
       "      <th>1511</th>\n",
       "      <td>80.283379</td>\n",
       "      <td>19.713314</td>\n",
       "      <td>-1.000000</td>\n",
       "      <td>0.000000</td>\n",
       "      <td>-15.797346</td>\n",
       "      <td>-80.283379</td>\n",
       "      <td>-96.080725</td>\n",
       "      <td>115.794040</td>\n",
       "    </tr>\n",
       "    <tr>\n",
       "      <th>1512</th>\n",
       "      <td>80.402194</td>\n",
       "      <td>19.597806</td>\n",
       "      <td>-1.000000</td>\n",
       "      <td>0.000000</td>\n",
       "      <td>-15.796824</td>\n",
       "      <td>-80.402194</td>\n",
       "      <td>-115.796824</td>\n",
       "      <td>115.796824</td>\n",
       "    </tr>\n",
       "  </tbody>\n",
       "</table>\n",
       "<p>1513 rows × 8 columns</p>\n",
       "</div>"
      ],
      "text/plain": [
       "           Price  Option price     Delta       Buy       Cash   Holdings  \\\n",
       "0     100.000000      5.573526 -0.363169 -0.363169  38.258767 -36.316935   \n",
       "1      99.999598      5.572575 -0.363220 -0.000051  38.264622 -36.321888   \n",
       "2      99.999172      5.571632 -0.363272 -0.000051  38.270518 -36.326878   \n",
       "3     100.084809      5.539489 -0.361709  0.001563  38.099689 -36.201538   \n",
       "4      99.191088      5.869239 -0.378709 -0.017001  39.618619 -37.564572   \n",
       "...          ...           ...       ...       ...        ...        ...   \n",
       "1508   81.252068     18.734705 -1.000000  0.000000 -15.798914 -81.252068   \n",
       "1509   81.109039     18.881040 -1.000000  0.000000 -15.798391 -81.109039   \n",
       "1510   80.622194     19.371192 -1.000000  0.000000 -15.797869 -80.622194   \n",
       "1511   80.283379     19.713314 -1.000000  0.000000 -15.797346 -80.283379   \n",
       "1512   80.402194     19.597806 -1.000000  0.000000 -15.796824 -80.402194   \n",
       "\n",
       "       Portfolio       Error  \n",
       "0       1.941833    3.631693  \n",
       "1       1.942734    3.629841  \n",
       "2       1.943639    3.627993  \n",
       "3       1.898151    3.641339  \n",
       "4       2.054047    3.815192  \n",
       "...          ...         ...  \n",
       "1508  -97.050982  115.785687  \n",
       "1509  -96.907431  115.788471  \n",
       "1510  -96.420063  115.791255  \n",
       "1511  -96.080725  115.794040  \n",
       "1512 -115.796824  115.796824  \n",
       "\n",
       "[1513 rows x 8 columns]"
      ]
     },
     "execution_count": 14,
     "metadata": {},
     "output_type": "execute_result"
    }
   ],
   "source": [
    "H_tc = Call_tc.Hedging('hourly')\n",
    "H_tc"
   ]
  },
  {
   "cell_type": "code",
   "execution_count": 15,
   "metadata": {},
   "outputs": [],
   "source": [
    "Sims_tc = Call_tc.MonteCarlo('daily',10000)\n",
    "terminal_values_tc = [sim[-1] for sim in Sims_tc]"
   ]
  },
  {
   "cell_type": "code",
   "execution_count": 16,
   "metadata": {},
   "outputs": [
    {
     "name": "stderr",
     "output_type": "stream",
     "text": [
      "/var/folders/3_/t8l3yh8s28z9_jbq7gqy7byr0000gn/T/ipykernel_5228/3659803437.py:7: UserWarning: No artists with labels found to put in legend.  Note that artists whose label start with an underscore are ignored when legend() is called with no argument.\n",
      "  plt.legend()\n"
     ]
    },
    {
     "data": {
      "image/png": "[encoded data removed]",
      "text/plain": [
       "<Figure size 1000x600 with 1 Axes>"
      ]
     },
     "metadata": {},
     "output_type": "display_data"
    }
   ],
   "source": [
    "plt.figure(figsize=(10,6))\n",
    "plt.hist(terminal_values_tc, bins=30, edgecolor='k', alpha=0.7)\n",
    "plt.title('Distribution of Terminal Portfolio Values')\n",
    "plt.xlabel('Terminal Value')\n",
    "plt.ylabel('Frequency')\n",
    "plt.grid(True)\n",
    "plt.legend()\n",
    "plt.show()"
   ]
  },
  {
   "cell_type": "markdown",
   "metadata": {},
   "source": [
    "# Shortcomings of the Black Scholes model\n",
    "\n",
    "### - constant risk free rate and volatility (easily fixable)\n",
    "### - no dividends from the underlying (can easily be fixed with Merton)\n",
    "### - no consideration of transaction costs \n",
    "### - relies on continous adjustment in hedging (doesn't work with transaction costs)"
   ]
  },
  {
   "cell_type": "markdown",
   "metadata": {},
   "source": []
  },
  {
   "cell_type": "markdown",
   "metadata": {},
   "source": [
    "# Leland Model"
   ]
  },
  {
   "cell_type": "markdown",
   "metadata": {},
   "source": []
  }
 ],
 "metadata": {
  "kernelspec": {
   "display_name": "Python 3.12 (python.org)",
   "language": "python",
   "name": "mypython312"
  },
  "language_info": {
   "codemirror_mode": {
    "name": "ipython",
    "version": 3
   },
   "file_extension": ".py",
   "mimetype": "text/x-python",
   "name": "python",
   "nbconvert_exporter": "python",
   "pygments_lexer": "ipython3",
   "version": "3.12.8"
  }
 },
 "nbformat": 4,
 "nbformat_minor": 2
}
